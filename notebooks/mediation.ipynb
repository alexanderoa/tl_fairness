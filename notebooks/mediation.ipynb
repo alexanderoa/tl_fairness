{
 "cells": [
  {
   "cell_type": "code",
   "execution_count": 1,
   "metadata": {},
   "outputs": [],
   "source": [
    "import numpy as np"
   ]
  },
  {
   "cell_type": "code",
   "execution_count": 2,
   "metadata": {},
   "outputs": [],
   "source": [
    "n = 1000\n",
    "rng = np.random.default_rng()\n",
    "z = rng.binomial(n=1,p=0.5, size=n)\n",
    "x = (1/(1 + np.exp(-(0.5*z+rng.normal(size=n)))) >= 0.5).astype(np.int8)\n",
    "w = (1/(1 + np.exp(-(0.25*z + 0.25*x +rng.normal(size=n)))) >= 0.5).astype(np.int8)\n",
    "y = (1/(1 + np.exp(-(0.15*z + 0.15*x + 0.15*w +rng.normal(size=n)))) >= 0.5).astype(np.int8)"
   ]
  },
  {
   "cell_type": "code",
   "execution_count": 84,
   "metadata": {},
   "outputs": [],
   "source": [
    "n = 1000\n",
    "rng = np.random.default_rng()\n",
    "z = rng.binomial(n=1,p=0.5, size=n)\n",
    "x = (1/(1 + np.exp(-(0.5*z+rng.normal(size=n)))) >= 0.5).astype(np.int8)\n",
    "w = (1/(1 + np.exp(-(0.25*z + 0.25*x +rng.normal(size=n)))) >= 0.5).astype(np.int8)\n",
    "y = (1/(1 + np.exp(-(2*x +rng.normal(size=n)))) >= 0.5).astype(np.int8)"
   ]
  },
  {
   "cell_type": "code",
   "execution_count": 3,
   "metadata": {},
   "outputs": [],
   "source": [
    "r = np.zeros(n)\n",
    "l = np.zeros(n)\n",
    "for i in range(n):\n",
    "    \n",
    "    p_xwz_1 = np.mean(np.all([x==1, w==w[i], z==z[i]], axis=0))\n",
    "    p_xwz_0 = np.mean(np.all([x==0, w==w[i], z==z[i]], axis=0))\n",
    "    p_xz = np.mean(np.all([x==0, z==z[i]], axis=0))\n",
    "    p_ycond_1 = np.mean(y[np.where(np.all([x==1, w==w[i], z==z[i]], axis=0))])\n",
    "    p_ycond_0 = np.mean(y[np.where(np.all([x==0, w==w[i], z==z[i]], axis=0))])\n",
    "    p_wcond = np.mean(w[np.where(np.all([x==0, z==z[i]], axis=0))])\n",
    "    p_zcond = np.mean(z[np.where(np.all([x==0], axis=0))])\n",
    "\n",
    "    r[i] = ( ( (1/p_xwz_1)*((y[i]==1) - p_ycond_1)*p_wcond*p_zcond \n",
    "    - (1/p_xwz_0)*((y[i]==1) - p_ycond_0)*p_wcond*p_zcond ) +\n",
    "    (1/p_xz)*p_ycond_1*p_zcond - (1/p_xz)*p_ycond_0*p_zcond)"
   ]
  },
  {
   "cell_type": "code",
   "execution_count": 120,
   "metadata": {},
   "outputs": [
    {
     "name": "stdout",
     "output_type": "stream",
     "text": [
      "0.009086063690256444\n",
      "1.0825635118900505\n",
      "0.04375007767245285\n"
     ]
    }
   ],
   "source": [
    "n = 10000\n",
    "rng = np.random.default_rng()\n",
    "z = rng.binomial(n=1,p=0.5, size=n)\n",
    "x = (1/(1 + np.exp(-(0.1*z+rng.normal(size=n)))) >= 0.5).astype(np.int8)\n",
    "w = (1/(1 + np.exp(-(x + 0.1*z + rng.normal(size=n)))) >= 0.5).astype(np.int8)\n",
    "y = (1/(1 + np.exp(-(z + rng.normal(size=n)))) >= 0.5).astype(np.int8)\n",
    "#y = (1/(1 + np.exp(-(2*x +rng.normal(size=n)))) >= 0.5).astype(np.int8)\n",
    "\n",
    "de = np.zeros(n)\n",
    "ie = np.zeros(n)\n",
    "se = np.zeros(n)\n",
    "for i in range(n):\n",
    "    \n",
    "    p_xwz_1 = np.mean(np.all([x==1, w==w[i], z==z[i]], axis=0))\n",
    "    p_xwz_0 = np.mean(np.all([x==0, w==w[i], z==z[i]], axis=0))\n",
    "    p_xz_0 = np.mean(np.all([x==0, z==z[i]], axis=0))\n",
    "    p_xz_1 = np.mean(np.all([x==1, z==z[i]], axis=0))\n",
    "\n",
    "    p_x1 = np.mean([x==1])\n",
    "    p_x0 = 1 - p_x1\n",
    "\n",
    "    p_ycond_1 = np.mean(y[np.where(np.all([x==1, w==w[i], z==z[i]], axis=0))])\n",
    "    p_ycond_0 = np.mean(y[np.where(np.all([x==0, w==w[i], z==z[i]], axis=0))])\n",
    "\n",
    "    p_wcond_x1 = np.mean(w[np.where(np.all([x==1, z==z[i]], axis=0))])\n",
    "    p_wcond_x0 = np.mean(w[np.where(np.all([x==0, z==z[i]], axis=0))])\n",
    "    p_zcond_x0 = np.mean(z[np.where(np.all([x==0], axis=0))])\n",
    "    p_zcond_x1 = np.mean(z[np.where(np.all([x==1], axis=0))])\n",
    "    p_ycond_w1 = np.mean(y[np.where(np.all([x==0, w==1, z==z[i]], axis=0))])\n",
    "    p_ycond_w0 = np.mean(y[np.where(np.all([x==0, w==0, z==z[i]], axis=0))])\n",
    "\n",
    "    \n",
    " \n",
    "    de[i] = ( ( (1/p_xwz_1)*((y[i]==1) - p_ycond_1)*p_wcond_x0*p_zcond_x0 \n",
    "    - (1/p_xwz_0)*((y[i]==1) - p_ycond_0)*p_wcond_x0*p_zcond_x0  ) +\n",
    "    (1/p_xz)*p_ycond_1*p_zcond_x0 - (1/p_xz)*p_ycond_0*p_zcond_x0) \n",
    "\n",
    "    de[i] += (p_ycond_1-p_ycond_0)*p_wcond_x0*p_zcond_x0\n",
    "\n",
    "    ie[i] = ( (1/p_xwz_0)*((y[i]==1) - p_ycond_0)*p_wcond_x1*p_zcond_x0 - \n",
    "    (1/p_xwz_0)*((y[i]==1) - p_ycond_0)*p_wcond_x0*p_zcond_x0 )\n",
    "    ie[i] += (1/p_xwz_1 - 1/p_xwz_0)*p_ycond_0*p_zcond_x0\n",
    "    ie[i] += ( ( (p_xz_1 - p_xz_0)/(p_xz_1*p_x0) ) * \n",
    "        (p_wcond_x1*p_ycond_w1 + (1-p_wcond_x1)*p_ycond_w0) )\n",
    "\n",
    "    #ie[i] += p_ycond_0*p_wcond_x1*p_zcond_x0 - p_ycond_0*p_wcond_x0*p_zcond_x0\n",
    "\n",
    "    se[i] += ( (1/p_xwz_0)*((y[i]==1) - p_ycond_0)*p_wcond_x0*p_zcond_x1 - \n",
    "    (1/p_xwz_0)*((y[i]==1) - p_ycond_0)*p_wcond_x0*p_zcond_x0 )\n",
    "    se[i] += (1/p_xwz_0)*p_ycond_0*(p_zcond_x1 - p_zcond_x0)\n",
    "    se[i] += ( ( (p_xz_0 - p_xz_1)/(p_xz_0*p_x1) ) * \n",
    "        (p_wcond_x0*p_ycond_w1 + (1-p_wcond_x0)*p_ycond_w0) )\n",
    "\n",
    "    #se[i] = p_ycond_0*p_wcond_x0*p_zcond_x1 - p_ycond_0*p_wcond_x0*p_zcond_x0\n",
    "\n",
    "print(np.mean(de))\n",
    "print(np.mean(ie))\n",
    "print(np.mean(se))"
   ]
  },
  {
   "cell_type": "code",
   "execution_count": 157,
   "metadata": {},
   "outputs": [
    {
     "name": "stdout",
     "output_type": "stream",
     "text": [
      "0.18050702629229928\n",
      "0.12465022656182444\n",
      "0.27338905188336826\n"
     ]
    }
   ],
   "source": [
    "n = 10000\n",
    "rng = np.random.default_rng()\n",
    "z = rng.binomial(n=1,p=0.5, size=2*n)\n",
    "x = (1/(1 + np.exp(-(0.1*z+rng.normal(size=2*n)))) >= 0.5).astype(np.int8)\n",
    "w = (1/(1 + np.exp(-(x + 0.1*z + rng.normal(size=2*n)))) >= 0.5).astype(np.int8)\n",
    "y = (1/(1 + np.exp(-(x + rng.normal(size=2*n)))) >= 0.5).astype(np.int8)\n",
    "#y = (1/(1 + np.exp(-(2*x +rng.normal(size=n)))) >= 0.5).astype(np.int8)\n",
    "\n",
    "ztr, zte = z[:n], z[n:]\n",
    "xtr, xte = x[:n], x[n:]\n",
    "wtr, wte = w[:n], w[n:]\n",
    "ytr, yte = y[:n], y[n:]\n",
    "\n",
    "de = np.zeros(n)\n",
    "ie = np.zeros(n)\n",
    "se = np.zeros(n)\n",
    "\n",
    "for i in range(n):\n",
    "    p_ycond_0 = np.mean(\n",
    "        ytr[np.where(\n",
    "            np.all([wtr==wte[i], ztr==zte[i], xtr==0],axis=0)\n",
    "            )]\n",
    "            )\n",
    "    p_ycond_1 = np.mean(\n",
    "        ytr[np.where(\n",
    "            np.all([wtr==wte[i], ztr==zte[i], xtr==1],axis=0)\n",
    "            )]\n",
    "            )\n",
    "    \n",
    "    p_wcond_1 = np.mean(\n",
    "        wtr[np.where(\n",
    "            np.all([ztr==zte[i], xtr==1],axis=0)\n",
    "        )] \n",
    "    )\n",
    "    p_wcond_0 = np.mean(\n",
    "        wtr[np.where(\n",
    "            np.all([ztr==zte[i], xtr==0],axis=0)\n",
    "        )] \n",
    "    )\n",
    "\n",
    "    p_zcond_1 = np.mean(\n",
    "        ztr[np.where(np.all([xtr==1],axis=0))]\n",
    "    )\n",
    "    p_zcond_0 = np.mean(\n",
    "        ztr[np.where(np.all([xtr==0],axis=0))]\n",
    "    )\n",
    "\n",
    "    p_xwz_1 = np.mean(np.all([xtr==1, wtr==wte[i], ztr==zte[i]], axis=0))\n",
    "    p_xwz_0 = np.mean(np.all([xtr==0, wtr==wte[i], ztr==zte[i]], axis=0))\n",
    "    p_xz_0 = np.mean(np.all([xtr==0, ztr==zte[i]], axis=0))\n",
    "    p_xz_1 = np.mean(np.all([xtr==1, ztr==zte[i]], axis=0))\n",
    "\n",
    "    p_x1 = np.mean([xtr==1])\n",
    "    p_x0 = 1 - p_x1\n",
    "\n",
    "    de = ( (xte[i]==1)/p_xwz_1* (1 - p_ycond_1)*p_wcond_0*p_zcond_0 +\n",
    "        (xte[i]==0)/p_xz_0 * (1-p_wcond_0)*p_ycond_1*p_zcond_0 + \n",
    "        (xte[i]==0)/p_x0 * (1-p_zcond_0)*p_ycond_1*p_wcond_0 )\n",
    "    de -= ( (xte[i]==0)/p_xwz_0 * (1 - p_ycond_0)*p_wcond_0*p_zcond_0 +\n",
    "        (xte[i]==0)/p_xz_0 * (1-p_wcond_0)*p_ycond_0*p_zcond_0 + \n",
    "        (xte[i]==0)/p_x0 * (1-p_zcond_0)*p_ycond_0*p_wcond_0 )\n",
    "\n",
    "    ie = ( (xte[i]==0)/p_xwz_0 * (1 - p_ycond_0)*p_wcond_1*p_zcond_0 +\n",
    "        (xte[i]==1)/p_xz_1 * (1-p_wcond_1)*p_ycond_0*p_zcond_0 + \n",
    "        (xte[i]==0)/p_x0 * (1-p_zcond_0)*p_ycond_0*p_wcond_1 )\n",
    "    ie -= ( (xte[i]==0)/p_xwz_0 * (1 - p_ycond_0)*p_wcond_0*p_zcond_0 +\n",
    "        (xte[i]==0)/p_xz_0 * (1-p_wcond_0)*p_ycond_0*p_zcond_0 + \n",
    "        (xte[i]==0)/p_x0 * (1-p_zcond_0)*p_ycond_0*p_wcond_0 )\n",
    "\n",
    "    se = ( (xte[i]==0)/p_xwz_0 * (1 - p_ycond_0)*p_wcond_0*p_zcond_1 +\n",
    "        (xte[i]==0)/p_xz_0 * (1-p_wcond_0)*p_ycond_0*p_zcond_1 + \n",
    "        (xte[i]==1)/p_x0 * (1-p_zcond_1)*p_ycond_0*p_wcond_0 )\n",
    "    se -= ( (xte[i]==0)/p_xwz_0 * (1 - p_ycond_0)*p_wcond_0*p_zcond_0 +\n",
    "        (xte[i]==0)/p_xz_0 * (1-p_wcond_0)*p_ycond_0*p_zcond_0 + \n",
    "        (xte[i]==0)/p_x0 * (1-p_zcond_0)*p_ycond_0*p_wcond_0 )\n",
    "\n",
    "print(np.mean(de))\n",
    "print(np.mean(ie))\n",
    "print(np.mean(se))"
   ]
  }
 ],
 "metadata": {
  "kernelspec": {
   "display_name": "Python 3.7.13 ('cfe')",
   "language": "python",
   "name": "python3"
  },
  "language_info": {
   "codemirror_mode": {
    "name": "ipython",
    "version": 3
   },
   "file_extension": ".py",
   "mimetype": "text/x-python",
   "name": "python",
   "nbconvert_exporter": "python",
   "pygments_lexer": "ipython3",
   "version": "3.7.13"
  },
  "orig_nbformat": 4,
  "vscode": {
   "interpreter": {
    "hash": "ed9f6bfafb24424ac2d7c1a0180a98b6559823ee37c889981a56c6d18cd38889"
   }
  }
 },
 "nbformat": 4,
 "nbformat_minor": 2
}
