{
 "cells": [
  {
   "cell_type": "code",
   "execution_count": 1,
   "metadata": {
    "tags": []
   },
   "outputs": [],
   "source": [
    "import numpy as np\n",
    "from sklearn.ensemble import RandomForestClassifier\n",
    "from sklearn.linear_model import LogisticRegression\n",
    "from sklearn.ensemble import GradientBoostingClassifier\n",
    "import sys\n",
    "import matplotlib.pyplot as plt\n",
    "import seaborn as sns\n",
    "import pandas as pd"
   ]
  },
  {
   "cell_type": "code",
   "execution_count": 2,
   "metadata": {
    "tags": []
   },
   "outputs": [],
   "source": [
    "sys.path.append('..')\n",
    "from tlfair.metrics import *"
   ]
  },
  {
   "cell_type": "code",
   "execution_count": 12,
   "metadata": {
    "tags": []
   },
   "outputs": [
    {
     "name": "stdout",
     "output_type": "stream",
     "text": [
      "0.5207495\n",
      "0.22259700261831766\n"
     ]
    }
   ],
   "source": [
    "rng = np.random.default_rng()\n",
    "n = 10000000\n",
    "d = 5\n",
    "\n",
    "x = rng.normal(size=(n,d))\n",
    "'''\n",
    "g = (rng.uniform(size = (n,)) > 0.5).astype(np.int8)\n",
    "for i in range(5):\n",
    "    x[:,i] = x[:,i] + g\n",
    "'''\n",
    "\n",
    "xt = x.copy()\n",
    "xt = xt**2\n",
    "'''\n",
    "for i in range(d):\n",
    "    xt[:,i] = x[:,i]**2\n",
    "'''\n",
    "\n",
    "beta = np.array([4, 2, 1, -3, -4])\n",
    "y_probs = 1/(1+np.exp(-xt@beta))\n",
    "y = (y_probs >= 0.5).astype(np.int8)\n",
    "\n",
    "bg = np.array([1,1,-1,-2,1])\n",
    "g_probs = 1/(1+np.exp(-xt@bg))\n",
    "g = (g_probs >= 0.5).astype(np.int8)\n",
    "\n",
    "print(np.mean(y))\n",
    "truth = np.mean(y_probs[g==1]) - np.mean(y_probs[g==0])\n",
    "print(truth)"
   ]
  },
  {
   "cell_type": "code",
   "execution_count": 4,
   "metadata": {
    "tags": []
   },
   "outputs": [],
   "source": [
    "def robust_sim(\n",
    "    n,\n",
    "    propensity = LogisticRegression(solver='liblinear'),\n",
    "    outcome = LogisticRegression(solver='liblinear')\n",
    "):\n",
    "\n",
    "    n = n // 2\n",
    "    d = 15\n",
    "    x = rng.normal(size=(2*n,d))\n",
    "    g = (rng.uniform(size = (2*n,)) > 0.5).astype(np.int8)\n",
    "\n",
    "    for i in range(5):\n",
    "        x[:,i] = x[:,i] + g\n",
    "\n",
    "    xt = x.copy()\n",
    "    for i in range(10):\n",
    "        xt[:,i] = x[:,i]**2\n",
    "\n",
    "    xt[:,10:] = 0\n",
    "    beta = np.array([4, -6, 1, -3, -4, 1, -3, 4, 4, 1, 0, 0, 0, 0, 0])\n",
    "    y_probs = 1/(1+np.exp(-xt@beta))\n",
    "    y = (y_probs >= 0.5).astype(np.int8)\n",
    "\n",
    "    test = prob_parity(\n",
    "        xtr = x[:n,:],\n",
    "        xte = x[n:,:],\n",
    "        ytr = y[:n],\n",
    "        yte = y[n:],\n",
    "        gtr = g[:n],\n",
    "        gte = g[n:],\n",
    "        outcome = outcome,\n",
    "        propensity = propensity,\n",
    "        )\n",
    "    return test[0]\n"
   ]
  },
  {
   "cell_type": "code",
   "execution_count": 13,
   "metadata": {
    "tags": []
   },
   "outputs": [],
   "source": [
    "def robust_sim_all(\n",
    "    n,\n",
    "    truth\n",
    "):\n",
    "\n",
    "    n = n // 2\n",
    "    d = 5\n",
    "    x = rng.normal(size=(2*n,d))\n",
    "\n",
    "    xt = x.copy()\n",
    "    xt = xt**2\n",
    "\n",
    "    beta = np.array([4, 2, 1, -3, -4])\n",
    "    y_probs = 1/(1+np.exp(-xt@beta))\n",
    "    y = (y_probs >= 0.5).astype(np.int8)\n",
    "\n",
    "    bg = np.array([1,1,-1,-2,1])\n",
    "    g_probs = 1/(1+np.exp(-xt@bg))\n",
    "    g = (g_probs >= 0.5).astype(np.int8)\n",
    "\n",
    "    mis_spec = prob_parity(\n",
    "        xtr = x[:n,:],\n",
    "        xte = x[n:,:],\n",
    "        ytr = y[:n],\n",
    "        yte = y[n:],\n",
    "        gtr = g[:n],\n",
    "        gte = g[n:],\n",
    "        outcome = LogisticRegression(solver='liblinear'),\n",
    "        propensity = LogisticRegression(solver='liblinear'),\n",
    "        )\n",
    "    \n",
    "    out_right = prob_parity(\n",
    "        xtr = x[:n,:],\n",
    "        xte = x[n:,:],\n",
    "        ytr = y[:n],\n",
    "        yte = y[n:],\n",
    "        gtr = g[:n],\n",
    "        gte = g[n:],\n",
    "        outcome = GradientBoostingClassifier(),\n",
    "        propensity = LogisticRegression(solver='liblinear'),\n",
    "        )\n",
    "    \n",
    "    prop_right = prob_parity(\n",
    "        xtr = x[:n,:],\n",
    "        xte = x[n:,:],\n",
    "        ytr = y[:n],\n",
    "        yte = y[n:],\n",
    "        gtr = g[:n],\n",
    "        gte = g[n:],\n",
    "        propensity = GradientBoostingClassifier(),\n",
    "        outcome = LogisticRegression(solver='liblinear'),\n",
    "        )\n",
    "    \n",
    "    both_right = prob_parity(\n",
    "        xtr = x[:n,:],\n",
    "        xte = x[n:,:],\n",
    "        ytr = y[:n],\n",
    "        yte = y[n:],\n",
    "        gtr = g[:n],\n",
    "        gte = g[n:],\n",
    "        outcome = GradientBoostingClassifier(),\n",
    "        propensity = GradientBoostingClassifier(),\n",
    "        )\n",
    "    \n",
    "    return mis_spec, out_right, prop_right, both_right"
   ]
  },
  {
   "cell_type": "code",
   "execution_count": 14,
   "metadata": {
    "tags": []
   },
   "outputs": [],
   "source": [
    "def robust_exp(sample_sizes, reps):\n",
    "    rng = np.random.default_rng()\n",
    "    n = 10000000\n",
    "    d = 5\n",
    "    x = rng.normal(size=(n,d))\n",
    "\n",
    "    xt = x.copy()\n",
    "    xt = xt**2\n",
    "\n",
    "    beta = np.array([4, 2, 1, -3, -4])\n",
    "    y_probs = 1/(1+np.exp(-xt@beta))\n",
    "    y = (y_probs >= 0.5).astype(np.int8)\n",
    "\n",
    "    bg = np.array([1,1,-1,-2,1])\n",
    "    g_probs = 1/(1+np.exp(-xt@bg))\n",
    "    g = (g_probs >= 0.5).astype(np.int8)\n",
    "    truth = np.mean(y_probs[g==1]) - np.mean(y_probs[g==0])\n",
    "    res = pd.DataFrame()\n",
    "    \n",
    "    cases = [\n",
    "        'misspecified',\n",
    "        'outcome_correct',\n",
    "        'propensity_correct',\n",
    "        'both_correct'\n",
    "    ]\n",
    "\n",
    "        \n",
    "    for i in range(len(sample_sizes)):\n",
    "        data = dict()\n",
    "        for c in cases:\n",
    "            data[c] = dict()\n",
    "            data[c]['coverage'] = 0\n",
    "            data[c]['estimates'] = []\n",
    "        for _ in range(reps):\n",
    "            hold = robust_sim_all(n=sample_sizes[i], truth=truth)\n",
    "            for k in range(len(cases)):\n",
    "                c = cases[k]\n",
    "                data[c]['estimates'].append(hold[k][0])\n",
    "                if hold[k][1][0] <= truth and hold[k][1][1] >= truth:\n",
    "                    data[c]['coverage'] += 1/reps\n",
    "            \n",
    "        for k in range(len(cases)):\n",
    "            c = cases[k]\n",
    "            tmpdf = pd.DataFrame({\n",
    "                'cases' : [c],\n",
    "                'sample_size' : [sample_sizes[i]],\n",
    "                'coverage' : [data[c]['coverage']],\n",
    "                '95-percentile' : [np.quantile(data[c]['estimates'], 0.95)],\n",
    "                '5-percentile' : [np.quantile(data[c]['estimates'], 0.05)],\n",
    "                'mean_estimate' : [np.mean(data[c]['estimates'])],\n",
    "                'error' : [np.mean(data[c]['estimates']) - truth]\n",
    "            })\n",
    "            res = pd.concat([res, tmpdf])\n",
    "    return res"
   ]
  },
  {
   "cell_type": "code",
   "execution_count": 18,
   "metadata": {
    "tags": []
   },
   "outputs": [],
   "source": [
    "res = robust_exp([250,500,1000,2500], reps=100)"
   ]
  },
  {
   "cell_type": "code",
   "execution_count": 25,
   "metadata": {
    "tags": []
   },
   "outputs": [],
   "source": [
    "res\n",
    "#res.to_csv('../robust_res.csv')"
   ]
  },
  {
   "cell_type": "code",
   "execution_count": 3,
   "metadata": {},
   "outputs": [
    {
     "data": {
      "text/plain": [
       "Text(0.5, 23.52222222222222, 'Sample Size')"
      ]
     },
     "execution_count": 3,
     "metadata": {},
     "output_type": "execute_result"
    },
    {
     "data": {
      "image/png": "[encoded data removed]",
      "text/plain": [
       "<Figure size 640x480 with 2 Axes>"
      ]
     },
     "metadata": {},
     "output_type": "display_data"
    }
   ],
   "source": [
    "res = pd.read_csv('../robust_res.csv')\n",
    "res['cases'] = pd.Categorical(\n",
    "    res['cases'], \n",
    "    ['misspecified', \n",
    "     'outcome_correct', \n",
    "     'propensity_correct', \n",
    "     'both_correct'])\n",
    "plot = res.pivot(index='cases', columns='sample_size', values='coverage')\n",
    "#plt.figure(figsize=(10, 4))\n",
    "ax = sns.heatmap(plot, annot=True)\n",
    "ax.set_yticklabels(['Well-Specified', 'G|X Misspecified', 'Y|X Misspecified', 'Fully Misspecified'])\n",
    "ax.set_ylabel('Scenario')\n",
    "ax.set_xlabel('Sample Size')"
   ]
  }
 ],
 "metadata": {
  "kernelspec": {
   "display_name": "Python 3 (ipykernel)",
   "language": "python",
   "name": "python3"
  },
  "language_info": {
   "codemirror_mode": {
    "name": "ipython",
    "version": 3
   },
   "file_extension": ".py",
   "mimetype": "text/x-python",
   "name": "python",
   "nbconvert_exporter": "python",
   "pygments_lexer": "ipython3",
   "version": "3.12.2"
  },
  "vscode": {
   "interpreter": {
    "hash": "ed9f6bfafb24424ac2d7c1a0180a98b6559823ee37c889981a56c6d18cd38889"
   }
  }
 },
 "nbformat": 4,
 "nbformat_minor": 4
}
