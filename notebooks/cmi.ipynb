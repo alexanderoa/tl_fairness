{
 "cells": [
  {
   "cell_type": "code",
   "execution_count": 198,
   "metadata": {},
   "outputs": [],
   "source": [
    "import numpy as np\n",
    "import scipy as sp\n",
    "from sklearn.ensemble import RandomForestClassifier\n",
    "from sklearn.linear_model import LogisticRegression\n",
    "from sklearn.ensemble import GradientBoostingClassifier\n",
    "from sklearn.calibration import CalibratedClassifierCV\n",
    "import matplotlib.pyplot as plt\n",
    "import sys\n"
   ]
  },
  {
   "cell_type": "code",
   "execution_count": 70,
   "metadata": {},
   "outputs": [],
   "source": [
    "sys.path.append('..')\n",
    "from tlfair.metrics import *\n",
    "from tlfair.superlearner import *\n",
    "from tlfair.knncmi import *"
   ]
  },
  {
   "cell_type": "code",
   "execution_count": 67,
   "metadata": {},
   "outputs": [],
   "source": [
    "n = 250\n",
    "label = np.random.choice(\n",
    "    a = [0,1,2,3], \n",
    "    size = n,\n",
    "    p = [0.4, 0.1, 0.1, 0.4]\n",
    ")\n",
    "x = np.random.poisson(lam=2.0, size=n).reshape(-1,1)\n",
    "outcome = GradientBoostingClassifier()\n",
    "outcome = CalibratedClassifierCV(outcome, cv=3).fit(x, label)\n",
    "\n",
    "est_vec = np.zeros(n)\n",
    "tol = 1e-2\n",
    "preds = outcome.predict_proba(x)\n",
    "for i in range(len(preds)):\n",
    "    numerator = preds[i, label[i]]\n",
    "    if label[i] == 0:\n",
    "        denominator = (preds[i,0]+preds[i,2]) * (preds[i,0]+preds[i,1])\n",
    "    elif label[i] == 1:\n",
    "        denominator = (preds[i,1]+preds[i,3]) * (preds[i,0]+preds[i,1])\n",
    "    elif label[i] == 2:\n",
    "        denominator = (preds[i,0]+preds[i,2]) * (preds[i,2]+preds[i,3])\n",
    "    elif label[i] == 3:\n",
    "        denominator = (preds[i,1]+preds[i,3]) * (preds[i,2]+preds[i,3])\n",
    "    est_vec[i] = np.log((numerator)/(denominator))\n",
    "est = np.mean(est_vec)\n",
    "eif = (est_vec - est)\n",
    "ci = (est - 1.96*np.sqrt(np.var(eif)/len(eif)), est + 1.96*np.sqrt(np.var(eif)/len(eif)))"
   ]
  },
  {
   "cell_type": "code",
   "execution_count": 68,
   "metadata": {},
   "outputs": [
    {
     "name": "stdout",
     "output_type": "stream",
     "text": [
      "0.2352288239644058\n",
      "(0.1592639081622587, 0.31119373976655296)\n"
     ]
    }
   ],
   "source": [
    "print(est)\n",
    "print(ci)"
   ]
  },
  {
   "cell_type": "code",
   "execution_count": 51,
   "metadata": {},
   "outputs": [
    {
     "data": {
      "text/plain": [
       "0.19274475702175753"
      ]
     },
     "execution_count": 51,
     "metadata": {},
     "output_type": "execute_result"
    }
   ],
   "source": [
    "2*0.4*np.log(0.4/(0.5**2)) + 2*0.1*np.log(0.1/0.5**2)"
   ]
  },
  {
   "cell_type": "code",
   "execution_count": 135,
   "metadata": {},
   "outputs": [
    {
     "data": {
      "text/plain": [
       "0.005574253919287993"
      ]
     },
     "execution_count": 135,
     "metadata": {},
     "output_type": "execute_result"
    }
   ],
   "source": [
    "d = 3\n",
    "n = 1000\n",
    "np.random.seed(123)\n",
    "rng = np.random.default_rng()\n",
    "z = rng.normal(size=(n,d))\n",
    "beta = np.ones(d)\n",
    "c = 2\n",
    "c_prob = c*rng.uniform(size=n)\n",
    "x_prob = (c_prob + rng.uniform(size=n) + 1/(1+np.exp(-z@beta)))/(c+2)\n",
    "y_prob = (c_prob + rng.uniform(size=n) + 1/(1+np.exp(-z@beta)))/(c+2)\n",
    "\n",
    "x = (x_prob > 0.5).astype(np.int8)\n",
    "y = (y_prob > 0.5).astype(np.int8)\n",
    "\n",
    "data = pd.DataFrame(\n",
    "    data = {\n",
    "        'x' : x,\n",
    "        \"y\" : y,\n",
    "        \"z1\" : z[:,0],\n",
    "        'z2' : z[:,1],\n",
    "        'z3' : z[:,2]\n",
    "    }\n",
    ")\n",
    "knn_truth = knncmi(['x'], ['y'], ['z1', 'z2', 'z3'], k=7, data=data)\n",
    "knn_truth"
   ]
  },
  {
   "cell_type": "code",
   "execution_count": 162,
   "metadata": {},
   "outputs": [
    {
     "data": {
      "text/plain": [
       "0.546961756980935"
      ]
     },
     "execution_count": 162,
     "metadata": {},
     "output_type": "execute_result"
    }
   ],
   "source": [
    "d = 3\n",
    "n = 10000\n",
    "np.random.seed(123)\n",
    "rng = np.random.default_rng()\n",
    "z = rng.normal(size=(n,d))\n",
    "beta = np.ones(d)\n",
    "c = 50\n",
    "w = 0.95\n",
    "res = []\n",
    "for i in range(n):\n",
    "    inside = 10000\n",
    "    zi = z[i,:]\n",
    "    \n",
    "    c_prob = c*rng.uniform(size=inside)\n",
    "    x_prob = (c_prob + rng.uniform(size=inside) + 1/(1+np.exp(-z@beta)))/(c+2)\n",
    "    y_prob = (c_prob + rng.uniform(size=inside) + 1/(1+np.exp(-z@beta)))/(c+2)\n",
    "    \n",
    "\n",
    "    '''\n",
    "    w_prob = w*rng.uniform(size=inside)\n",
    "    x_prob = (w_prob + ((1-w)/2) *rng.uniform(size=inside) + ((1-w)/2) *1/(1+np.exp(-z@beta)))\n",
    "    y_prob = (w_prob + ((1-w)/2) *rng.uniform(size=inside) + ((1-w)/2) *1/(1+np.exp(-z@beta)))\n",
    "    '''\n",
    "    x = (x_prob > 0.5).astype(np.int8)\n",
    "    y = (y_prob > 0.5).astype(np.int8)\n",
    "    \n",
    "\n",
    "    p1 = np.mean((x==1)*(y==1)) * np.log(np.mean((x==1)*(y==1)) / (np.mean(x==1)*np.mean(y==1)))\n",
    "    p2 = np.mean((x==0)*(y==1)) * np.log(np.mean((x==0)*(y==1)) / (np.mean(x==0)*np.mean(y==1)))\n",
    "    p3 = np.mean((x==1)*(y==0)) * np.log(np.mean((x==1)*(y==0)) / (np.mean(x==1)*np.mean(y==0)))\n",
    "    p4 = np.mean((x==0)*(y==0)) * np.log(np.mean((x==0)*(y==0)) / (np.mean(x==0)*np.mean(y==0)))\n",
    "    res.append(p1+p2+p3+p4)\n",
    "\n",
    "ground_truth = np.mean(res)\n",
    "np.mean(res)"
   ]
  },
  {
   "cell_type": "code",
   "execution_count": 168,
   "metadata": {},
   "outputs": [],
   "source": [
    "def cmi_sim(\n",
    "    n,\n",
    "    c,\n",
    "    d=3,\n",
    "    rng=None,\n",
    "    sep=False\n",
    "    ):\n",
    "\n",
    "    n = n //2 #sample splitting\n",
    "    if rng is None:\n",
    "        # np.random.seed(123)\n",
    "        rng = np.random.default_rng()\n",
    "    z = rng.normal(size=(2*n,d))\n",
    "    beta = np.array([1,1,1])\n",
    "    c_prob = c*rng.uniform(size=2*n)\n",
    "    x_prob = (c_prob + rng.uniform(size=2*n) + 1/(1+np.exp(-z@beta)))/(c+2)\n",
    "    y_prob = (c_prob + rng.uniform(size=2*n) + 1/(1+np.exp(-z@beta)))/(c+2)\n",
    "    x = (x_prob > 0.5).astype(np.int8)\n",
    "    y = (y_prob > 0.5).astype(np.int8)\n",
    "\n",
    "    \n",
    "\n",
    "    label = np.zeros(shape=(2*n,)).astype(np.int8)\n",
    "    label[np.intersect1d(np.where(x==0), np.where(y==0))] = 0\n",
    "    label[np.intersect1d(np.where(x==1), np.where(y==0))] = 1\n",
    "    label[np.intersect1d(np.where(x==0), np.where(y==1))] = 2\n",
    "    label[np.intersect1d(np.where(x==1), np.where(y==1))] = 3\n",
    "\n",
    "    if sep:\n",
    "        fn = cmi_separate\n",
    "    else:\n",
    "        fn = cmi\n",
    "        \n",
    "    res = fn(\n",
    "        xtr = z[:n,:],\n",
    "        xte = z[n:,:], \n",
    "        ytr = x[:n], \n",
    "        yte = x[n:],\n",
    "        gtr = y[:n],\n",
    "        gte = y[n:],\n",
    "        outcome = GradientBoostingClassifier(),\n",
    "        propensity=None\n",
    "    )\n",
    "    return res\n",
    "\n",
    "def knncmi_sim(\n",
    "    n,\n",
    "    c,\n",
    "    d=3,\n",
    "    rng=None):\n",
    "    if rng is None:\n",
    "        np.random.seed(123)\n",
    "        rng = np.random.default_rng()\n",
    "    z = rng.normal(size=(n,d))\n",
    "    beta = np.array([1,1,1])\n",
    "    c_prob = c*rng.uniform(size=n)\n",
    "    x_prob = (c_prob + rng.uniform(size=n) + 1/(1+np.exp(-z@beta)))/(c+2)\n",
    "    y_prob = (c_prob + rng.uniform(size=n) + 1/(1+np.exp(-z@beta)))/(c+2)\n",
    "\n",
    "    x = (x_prob > 0.5).astype(np.int8)\n",
    "    y = (y_prob > 0.5).astype(np.int8)\n",
    "\n",
    "    data = pd.DataFrame(\n",
    "        data = {\n",
    "            'x' : x,\n",
    "            \"y\" : y,\n",
    "            \"z1\" : z[:,0],\n",
    "            'z2' : z[:,1],\n",
    "            'z3' : z[:,2]\n",
    "        }\n",
    "    )\n",
    "    return knncmi(['x'], ['y'], ['z1', 'z2', 'z3'], k=7, data=data)\n",
    "\n",
    "def cmi_coverage_sim(\n",
    "    n,\n",
    "    c,\n",
    "    ground_truth,\n",
    "    sims=100,\n",
    "    rng=None):\n",
    "\n",
    "    if rng is None:\n",
    "        rng = np.random.default_rng(123)\n",
    "    coverage = np.zeros(sims)\n",
    "    error = 0\n",
    "    for i in range(sims):\n",
    "        res = cmi_sim(n=n, c=c, rng=rng)\n",
    "        error += (res[0] - ground_truth)\n",
    "        if (res[1][0] <= ground_truth) and (res[1][1] >= ground_truth):\n",
    "            coverage[i] = 1\n",
    "    return np.mean(coverage), error/sims"
   ]
  },
  {
   "cell_type": "code",
   "execution_count": 194,
   "metadata": {},
   "outputs": [
    {
     "data": {
      "text/plain": [
       "(0.29511344535705814, (0.253100871700609, 0.33712601901350725))"
      ]
     },
     "execution_count": 194,
     "metadata": {},
     "output_type": "execute_result"
    }
   ],
   "source": [
    "cmi_sim(n=1000, c=2)"
   ]
  },
  {
   "cell_type": "code",
   "execution_count": 164,
   "metadata": {},
   "outputs": [],
   "source": [
    "def cmi_ground_truth(\n",
    "    c,\n",
    "    d,\n",
    "    n,\n",
    "    rng):\n",
    "    z = rng.normal(size=(n,d))\n",
    "    beta = np.ones(d)\n",
    "    res = []\n",
    "    for i in range(n):\n",
    "        inside = n\n",
    "        zi = z[i,:]\n",
    "        \n",
    "        c_prob = c*rng.uniform(size=inside)\n",
    "        x_prob = (c_prob + rng.uniform(size=inside) + 1/(1+np.exp(-z@beta)))/(c+2)\n",
    "        y_prob = (c_prob + rng.uniform(size=inside) + 1/(1+np.exp(-z@beta)))/(c+2)\n",
    "\n",
    "        x = (x_prob > 0.5).astype(np.int8)\n",
    "        y = (y_prob > 0.5).astype(np.int8)\n",
    "        \n",
    "\n",
    "        p1 = np.mean((x==1)*(y==1)) * np.log(np.mean((x==1)*(y==1)) / (np.mean(x==1)*np.mean(y==1)))\n",
    "        p2 = np.mean((x==0)*(y==1)) * np.log(np.mean((x==0)*(y==1)) / (np.mean(x==0)*np.mean(y==1)))\n",
    "        p3 = np.mean((x==1)*(y==0)) * np.log(np.mean((x==1)*(y==0)) / (np.mean(x==1)*np.mean(y==0)))\n",
    "        p4 = np.mean((x==0)*(y==0)) * np.log(np.mean((x==0)*(y==0)) / (np.mean(x==0)*np.mean(y==0)))\n",
    "        res.append(p1+p2+p3+p4)\n",
    "\n",
    "    return(np.mean(res))"
   ]
  },
  {
   "cell_type": "code",
   "execution_count": 201,
   "metadata": {},
   "outputs": [],
   "source": [
    "weights = [4]\n",
    "sizes = [5000]\n",
    "n_truth = 10000\n",
    "sims = 5\n",
    "rng = np.random.default_rng()\n",
    "results = pd.DataFrame()\n",
    "\n",
    "for i in range(len(weights)):\n",
    "    c = weights[i]\n",
    "    truth = cmi_ground_truth(\n",
    "        c = c,\n",
    "        d = 3,\n",
    "        n = n_truth,\n",
    "        rng = rng\n",
    "    )\n",
    "    for j in range(len(sizes)):\n",
    "        s = sizes[j]\n",
    "        r = cmi_coverage_sim(\n",
    "            n = s,\n",
    "            c = c,\n",
    "            ground_truth = truth,\n",
    "            rng = rng,\n",
    "            sims = sims\n",
    "        )\n",
    "        here = pd.DataFrame(\n",
    "            {\n",
    "                \"sample_size\" : [s],\n",
    "                \"c\" : [c],\n",
    "                \"error\" : [r[1]],\n",
    "                \"coverage\" : [r[0]]\n",
    "            }\n",
    "        )\n",
    "        results = pd.concat([results, here])"
   ]
  },
  {
   "cell_type": "code",
   "execution_count": 202,
   "metadata": {},
   "outputs": [
    {
     "data": {
      "text/html": [
       "<div>\n",
       "<style scoped>\n",
       "    .dataframe tbody tr th:only-of-type {\n",
       "        vertical-align: middle;\n",
       "    }\n",
       "\n",
       "    .dataframe tbody tr th {\n",
       "        vertical-align: top;\n",
       "    }\n",
       "\n",
       "    .dataframe thead th {\n",
       "        text-align: right;\n",
       "    }\n",
       "</style>\n",
       "<table border=\"1\" class=\"dataframe\">\n",
       "  <thead>\n",
       "    <tr style=\"text-align: right;\">\n",
       "      <th></th>\n",
       "      <th>sample_size</th>\n",
       "      <th>c</th>\n",
       "      <th>error</th>\n",
       "      <th>coverage</th>\n",
       "    </tr>\n",
       "  </thead>\n",
       "  <tbody>\n",
       "    <tr>\n",
       "      <th>0</th>\n",
       "      <td>5000</td>\n",
       "      <td>4</td>\n",
       "      <td>-0.00709</td>\n",
       "      <td>0.8</td>\n",
       "    </tr>\n",
       "  </tbody>\n",
       "</table>\n",
       "</div>"
      ],
      "text/plain": [
       "   sample_size  c    error  coverage\n",
       "0         5000  4 -0.00709       0.8"
      ]
     },
     "execution_count": 202,
     "metadata": {},
     "output_type": "execute_result"
    }
   ],
   "source": [
    "results"
   ]
  },
  {
   "cell_type": "code",
   "execution_count": 145,
   "metadata": {},
   "outputs": [
    {
     "data": {
      "text/plain": [
       "[1.0, 0.8, 1.0, 1.0, 1.0]"
      ]
     },
     "execution_count": 145,
     "metadata": {},
     "output_type": "execute_result"
    }
   ],
   "source": [
    "rng = np.random.default_rng()\n",
    "sizes = [250, 500, 1000, 5000, 10000]\n",
    "coverage = []\n",
    "for s in sizes:\n",
    "    r = cmi_coverage_sim(\n",
    "        n = s,\n",
    "        c = 4,\n",
    "        ground_truth=ground_truth,\n",
    "        sims=5,\n",
    "        rng = rng\n",
    "    )\n",
    "    coverage.append(r[0])\n",
    "coverage"
   ]
  },
  {
   "cell_type": "code",
   "execution_count": 196,
   "metadata": {},
   "outputs": [],
   "source": [
    "def cmi_compare(\n",
    "    n,\n",
    "    repeats = 1,\n",
    "    params = [0.5, 1, 1.25, 1.5, 1.75, 2, 2.5, 3],\n",
    "    rng = None):\n",
    "\n",
    "    if rng is None:\n",
    "        rng = np.random.default_rng()\n",
    "    \n",
    "    df = pd.DataFrame()\n",
    "    for i in range(len(params)):\n",
    "        cmi_res = []\n",
    "        sep_res = []\n",
    "        knn_res = []\n",
    "        for _ in range(repeats):\n",
    "            res = cmi_sim(\n",
    "                c = params[i],\n",
    "                n = n,\n",
    "                rng= rng\n",
    "            )\n",
    "            cmi_res.append(res[0])\n",
    "\n",
    "            res = cmi_sim(\n",
    "                c = params[i],\n",
    "                n = n,\n",
    "                rng= rng,\n",
    "                sep = True\n",
    "            )\n",
    "            sep_res.append(res[0])\n",
    "\n",
    "            res = knncmi_sim(\n",
    "                c = params[i],\n",
    "                n = n,\n",
    "                rng=rng\n",
    "            )\n",
    "            knn_res.append(res)\n",
    "\n",
    "        data = pd.DataFrame(\n",
    "            {\n",
    "                \"type\": [\"TL\", \"TL-sep\", \"KNN\"],\n",
    "                \"c\" : [params[i]] * 3,\n",
    "                \"mean\" : [np.mean(cmi_res), np.mean(sep_res), np.mean(knn_res)],\n",
    "                \"bottom_five\": [np.quantile(cmi_res, 0.05), np.quantile(sep_res, 0.05), np.quantile(knn_res, 0.05)],\n",
    "                \"top_five\" : [np.quantile(cmi_res, 0.95), np.quantile(sep_res, 0.95), np.quantile(knn_res, 0.95)]\n",
    "            }\n",
    "        )\n",
    "        df = df.append(data)\n",
    "    return df\n"
   ]
  },
  {
   "cell_type": "code",
   "execution_count": 197,
   "metadata": {},
   "outputs": [
    {
     "data": {
      "text/html": [
       "<div>\n",
       "<style scoped>\n",
       "    .dataframe tbody tr th:only-of-type {\n",
       "        vertical-align: middle;\n",
       "    }\n",
       "\n",
       "    .dataframe tbody tr th {\n",
       "        vertical-align: top;\n",
       "    }\n",
       "\n",
       "    .dataframe thead th {\n",
       "        text-align: right;\n",
       "    }\n",
       "</style>\n",
       "<table border=\"1\" class=\"dataframe\">\n",
       "  <thead>\n",
       "    <tr style=\"text-align: right;\">\n",
       "      <th></th>\n",
       "      <th>type</th>\n",
       "      <th>c</th>\n",
       "      <th>mean</th>\n",
       "      <th>bottom_five</th>\n",
       "      <th>top_five</th>\n",
       "    </tr>\n",
       "  </thead>\n",
       "  <tbody>\n",
       "    <tr>\n",
       "      <th>0</th>\n",
       "      <td>TL</td>\n",
       "      <td>0</td>\n",
       "      <td>-0.000946</td>\n",
       "      <td>-0.011268</td>\n",
       "      <td>0.009754</td>\n",
       "    </tr>\n",
       "    <tr>\n",
       "      <th>1</th>\n",
       "      <td>TL-sep</td>\n",
       "      <td>0</td>\n",
       "      <td>-0.104981</td>\n",
       "      <td>-0.114031</td>\n",
       "      <td>-0.096027</td>\n",
       "    </tr>\n",
       "    <tr>\n",
       "      <th>2</th>\n",
       "      <td>KNN</td>\n",
       "      <td>0</td>\n",
       "      <td>0.002591</td>\n",
       "      <td>0.000000</td>\n",
       "      <td>0.007029</td>\n",
       "    </tr>\n",
       "    <tr>\n",
       "      <th>0</th>\n",
       "      <td>TL</td>\n",
       "      <td>2</td>\n",
       "      <td>0.233048</td>\n",
       "      <td>0.206262</td>\n",
       "      <td>0.259809</td>\n",
       "    </tr>\n",
       "    <tr>\n",
       "      <th>1</th>\n",
       "      <td>TL-sep</td>\n",
       "      <td>2</td>\n",
       "      <td>0.183438</td>\n",
       "      <td>0.134403</td>\n",
       "      <td>0.225137</td>\n",
       "    </tr>\n",
       "    <tr>\n",
       "      <th>2</th>\n",
       "      <td>KNN</td>\n",
       "      <td>2</td>\n",
       "      <td>0.235465</td>\n",
       "      <td>0.224361</td>\n",
       "      <td>0.245096</td>\n",
       "    </tr>\n",
       "    <tr>\n",
       "      <th>0</th>\n",
       "      <td>TL</td>\n",
       "      <td>4</td>\n",
       "      <td>0.411106</td>\n",
       "      <td>0.394494</td>\n",
       "      <td>0.437186</td>\n",
       "    </tr>\n",
       "    <tr>\n",
       "      <th>1</th>\n",
       "      <td>TL-sep</td>\n",
       "      <td>4</td>\n",
       "      <td>0.379008</td>\n",
       "      <td>0.354891</td>\n",
       "      <td>0.420859</td>\n",
       "    </tr>\n",
       "    <tr>\n",
       "      <th>2</th>\n",
       "      <td>KNN</td>\n",
       "      <td>4</td>\n",
       "      <td>0.451395</td>\n",
       "      <td>0.425969</td>\n",
       "      <td>0.470827</td>\n",
       "    </tr>\n",
       "  </tbody>\n",
       "</table>\n",
       "</div>"
      ],
      "text/plain": [
       "     type  c      mean  bottom_five  top_five\n",
       "0      TL  0 -0.000946    -0.011268  0.009754\n",
       "1  TL-sep  0 -0.104981    -0.114031 -0.096027\n",
       "2     KNN  0  0.002591     0.000000  0.007029\n",
       "0      TL  2  0.233048     0.206262  0.259809\n",
       "1  TL-sep  2  0.183438     0.134403  0.225137\n",
       "2     KNN  2  0.235465     0.224361  0.245096\n",
       "0      TL  4  0.411106     0.394494  0.437186\n",
       "1  TL-sep  4  0.379008     0.354891  0.420859\n",
       "2     KNN  4  0.451395     0.425969  0.470827"
      ]
     },
     "execution_count": 197,
     "metadata": {},
     "output_type": "execute_result"
    }
   ],
   "source": [
    "cmi_compare(n=1000, params=[0,2,4], repeats=5)"
   ]
  },
  {
   "cell_type": "code",
   "execution_count": 36,
   "metadata": {},
   "outputs": [],
   "source": [
    "params = [0.5, 1, 1.25, 1.5, 1.75, 2, 2.5, 3]\n",
    "n = 1000\n",
    "rng = np.random.default_rng()\n",
    "cmi_res = []\n",
    "sep_res = []\n",
    "knn_res = []\n",
    "for i in range(len(params)):\n",
    "    res = cmi_sim(\n",
    "        c = params[i],\n",
    "        n = n,\n",
    "        rng= rng\n",
    "    )\n",
    "    cmi_res.append(res[0])\n",
    "\n",
    "    res = cmi_sim(\n",
    "        c = params[i],\n",
    "        n = n,\n",
    "        rng= rng,\n",
    "        sep = True\n",
    "    )\n",
    "    sep_res.append(res[0])\n",
    "\n",
    "    res = knncmi_sim(\n",
    "        c = params[i],\n",
    "        n = n,\n",
    "        rng=rng\n",
    "    )\n",
    "    knn_res.append(res)"
   ]
  },
  {
   "cell_type": "code",
   "execution_count": 39,
   "metadata": {},
   "outputs": [],
   "source": [
    "params = [0.5, 1, 1.25, 1.5, 1.75, 2, 2.5, 3]\n",
    "n = 1000\n",
    "rng = np.random.default_rng()\n",
    "cmi_res = []\n",
    "sep_res = []\n",
    "knn_res = []\n",
    "for i in range(len(params)):\n",
    "    a = 0\n",
    "    b = 0\n",
    "    c = 0\n",
    "    for _ in range(5):\n",
    "        res = cmi_sim(\n",
    "            c = params[i],\n",
    "            n = n,\n",
    "            rng= rng\n",
    "        )\n",
    "        a += res[0]\n",
    "        \n",
    "        res = cmi_sim(\n",
    "            c = params[i],\n",
    "            n = n,\n",
    "            rng= rng,\n",
    "            sep = True\n",
    "        )\n",
    "        b += res[0]\n",
    "\n",
    "        res = knncmi_sim(\n",
    "            c = params[i],\n",
    "            n = n,\n",
    "            rng=rng\n",
    "        )\n",
    "        c += res\n",
    "        \n",
    "    cmi_res.append(a/5)\n",
    "    sep_res.append(b/5)\n",
    "    knn_res.append(c/5)"
   ]
  },
  {
   "cell_type": "code",
   "execution_count": 40,
   "metadata": {},
   "outputs": [
    {
     "data": {
      "text/plain": [
       "<matplotlib.legend.Legend at 0x7f8205fb6bd0>"
      ]
     },
     "execution_count": 40,
     "metadata": {},
     "output_type": "execute_result"
    },
    {
     "data": {
      "image/png": "[encoded data removed]",
      "text/plain": [
       "<Figure size 640x480 with 1 Axes>"
      ]
     },
     "metadata": {},
     "output_type": "display_data"
    }
   ],
   "source": [
    "plt.plot(params, cmi_res, label='TL')\n",
    "plt.plot(params, sep_res, label='TL-sep')\n",
    "plt.plot(params, knn_res, label='KNN')\n",
    "plt.legend()"
   ]
  }
 ],
 "metadata": {
  "kernelspec": {
   "display_name": "Python 3.7.13 ('cfe')",
   "language": "python",
   "name": "python3"
  },
  "language_info": {
   "codemirror_mode": {
    "name": "ipython",
    "version": 3
   },
   "file_extension": ".py",
   "mimetype": "text/x-python",
   "name": "python",
   "nbconvert_exporter": "python",
   "pygments_lexer": "ipython3",
   "version": "3.7.13"
  },
  "orig_nbformat": 4,
  "vscode": {
   "interpreter": {
    "hash": "ed9f6bfafb24424ac2d7c1a0180a98b6559823ee37c889981a56c6d18cd38889"
   }
  }
 },
 "nbformat": 4,
 "nbformat_minor": 2
}
