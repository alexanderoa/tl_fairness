{
 "cells": [
  {
   "cell_type": "code",
   "execution_count": 1,
   "metadata": {},
   "outputs": [],
   "source": [
    "import numpy as np\n",
    "from sklearn.ensemble import RandomForestClassifier\n",
    "from sklearn.linear_model import LogisticRegression\n",
    "import sys\n",
    "import matplotlib.pyplot as plt\n",
    "import seaborn as sns\n",
    "import pandas as pd"
   ]
  },
  {
   "cell_type": "code",
   "execution_count": 2,
   "metadata": {},
   "outputs": [],
   "source": [
    "sys.path.append('..')\n",
    "from tlfair.metrics import *\n",
    "from tlfair.superlearner import *\n",
    "from tlfair.knncmi import *"
   ]
  },
  {
   "cell_type": "code",
   "execution_count": 77,
   "metadata": {},
   "outputs": [],
   "source": [
    "rng = np.random.default_rng()\n",
    "\n",
    "n = 100000\n",
    "cov = np.array(\n",
    "    [[1,0,0,0,0],\n",
    "    [0,1,0.5,0,0],\n",
    "    [0,0.5,1,0,0],\n",
    "    [0,0,0,1,-0.5],\n",
    "    [0,0,0,-0.5,1]])\n",
    "x = rng.multivariate_normal(mean=np.zeros(5), cov=cov, size=(n,))\n",
    "g = (rng.uniform(size = (n,)) > 0.5).astype(np.int8)\n",
    "beta0 = 0.5*np.ones(5)\n",
    "beta1 = 2*np.ones(5)\n",
    "y_probs = (1-g)*(1/(1+np.exp(x@beta0))) + g*(1/(1+np.exp(x@beta1)))\n",
    "y = (y_probs > 0.5).astype(np.int8)\n",
    "\n",
    "yx_model = LogisticRegression(solver='liblinear').fit(x, y)\n",
    "yx_probs = yx_model.predict_proba(x)[:,1]\n",
    "\n",
    "yx_model = LogisticRegression(solver='liblinear').fit(np.c_[x,g], y)\n",
    "yx_probs = yx_model.predict_proba(np.c_[x,g])[:,1]"
   ]
  },
  {
   "cell_type": "code",
   "execution_count": 61,
   "metadata": {},
   "outputs": [
    {
     "data": {
      "text/plain": [
       "0.0005640393099494156"
      ]
     },
     "execution_count": 61,
     "metadata": {},
     "output_type": "execute_result"
    }
   ],
   "source": [
    "np.mean(y[g==1]) - np.mean(y[g==0])"
   ]
  },
  {
   "cell_type": "code",
   "execution_count": 78,
   "metadata": {},
   "outputs": [
    {
     "data": {
      "text/plain": [
       "0.19261235285973144"
      ]
     },
     "execution_count": 78,
     "metadata": {},
     "output_type": "execute_result"
    }
   ],
   "source": [
    "np.mean(y_probs[np.intersect1d(np.where(g==1), np.where(y==1))]) - np.mean(y_probs[np.intersect1d(np.where(g==0), np.where(y==1))])"
   ]
  },
  {
   "cell_type": "code",
   "execution_count": 79,
   "metadata": {},
   "outputs": [
    {
     "data": {
      "text/plain": [
       "-0.0012428813841557362"
      ]
     },
     "execution_count": 79,
     "metadata": {},
     "output_type": "execute_result"
    }
   ],
   "source": [
    "np.mean(yx_probs[np.intersect1d(np.where(g==1), np.where(y==1))]) - np.mean(yx_probs[np.intersect1d(np.where(g==0), np.where(y==1))])"
   ]
  },
  {
   "cell_type": "code",
   "execution_count": 39,
   "metadata": {},
   "outputs": [],
   "source": [
    "r = 10000\n",
    "xtr = x[:r,:]\n",
    "ytr = y[:r]\n",
    "gtr = g[:r]\n",
    "\n",
    "xte = x[r:2*r,:]\n",
    "yte = y[r:2*r]\n",
    "gte = g[r:2*r]\n",
    "\n",
    "outcome = LogisticRegression(solver='liblinear').fit(xtr, ytr)\n",
    "\n",
    "yg1 = np.all(\n",
    "    np.array([gte==1, yte==1]),\n",
    "    axis = 0\n",
    "    )\n",
    "yg0 = np.all(\n",
    "    np.array([gte==0, yte==1]),\n",
    "    axis = 0\n",
    "    )\n",
    "phi0 = -1/np.mean(yg0) * outcome.predict(xte[np.where(yg0)[0],:])\n",
    "phi1 = 1/np.mean(yg1) * outcome.predict(xte[np.where(yg1)[0],:])\n",
    "phi = np.hstack([phi0, phi1])\n",
    "est = np.sum(phi)/gte.shape[0]\n",
    "eif = phi - est\n",
    "ci = (est - 1.96*np.sqrt(np.var(eif)/len(gte)), est + 1.96*np.sqrt(np.var(eif)/len(gte)))"
   ]
  },
  {
   "cell_type": "code",
   "execution_count": 40,
   "metadata": {},
   "outputs": [
    {
     "name": "stdout",
     "output_type": "stream",
     "text": [
      "-0.039877600166637876\n",
      "(-0.10588049480666814, 0.026125294473392395)\n"
     ]
    }
   ],
   "source": [
    "print(est)\n",
    "print(ci)"
   ]
  },
  {
   "cell_type": "code",
   "execution_count": 32,
   "metadata": {},
   "outputs": [],
   "source": [
    "yg_tr = np.zeros(shape=(len(gtr),)).astype(np.int8)\n",
    "yg_tr[np.intersect1d(np.where(gtr==0), np.where(ytr==0))] = 0\n",
    "yg_tr[np.intersect1d(np.where(gtr==1), np.where(ytr==0))] = 1\n",
    "yg_tr[np.intersect1d(np.where(gtr==0), np.where(ytr==1))] = 2\n",
    "yg_tr[np.intersect1d(np.where(gtr==1), np.where(ytr==1))] = 3\n",
    "\n",
    "outcome = LogisticRegression(solver='liblinear').fit(xtr, ytr)\n",
    "propensity = LogisticRegression(solver='liblinear').fit(xtr, yg_tr)\n",
    "\n",
    "yg1 = np.all(\n",
    "    np.array([gte==1, yte==1]),\n",
    "    axis = 0\n",
    "    )\n",
    "yg0 = np.all(\n",
    "    np.array([gte==0, yte==1]),\n",
    "    axis = 0\n",
    "    )\n",
    "props = propensity.predict_proba(xte)\n",
    "preds = outcome.predict_proba(xte)[:,1]\n",
    "phi0 = -1/np.mean(yg0) * (props[:,2]*((yte==1) - preds) + yg0 * preds)\n",
    "phi1 = 1/np.mean(yg1) * (props[:,3]* ((yte==1) - preds) + yg1 * preds)\n",
    "phi = phi0 + phi1\n",
    "est = np.mean(phi)\n",
    "eif = est - phi\n",
    "ci = (est - 1.96*np.sqrt(np.var(eif)/len(gte)), est + 1.96*np.sqrt(np.var(eif)/len(gte)))"
   ]
  },
  {
   "cell_type": "code",
   "execution_count": 33,
   "metadata": {},
   "outputs": [
    {
     "name": "stdout",
     "output_type": "stream",
     "text": [
      "-0.0016755811437908121\n",
      "(-0.048999100405519365, 0.045647938117937735)\n"
     ]
    }
   ],
   "source": [
    "print(est)\n",
    "print(ci)"
   ]
  },
  {
   "cell_type": "code",
   "execution_count": 52,
   "metadata": {},
   "outputs": [],
   "source": [
    "def opportunity_sim(\n",
    "    n,\n",
    "    proportion = 0.5,\n",
    "    estimand ='threshold',\n",
    "    rng=None):\n",
    "\n",
    "    if rng is None:\n",
    "        rng = np.random.default_rng()\n",
    "\n",
    "    n = n // 2 # sample splitting\n",
    "    cov = np.array(\n",
    "    [[1,0,0,0,0],\n",
    "    [0,1,0.5,0,0],\n",
    "    [0,0.5,1,0,0],\n",
    "    [0,0,0,1,-0.5],\n",
    "    [0,0,0,-0.5,1]])\n",
    "    x = rng.multivariate_normal(mean=np.zeros(5), cov=cov, size=(2*n,))\n",
    "    g = (rng.uniform(size = (2*n,)) > proportion).astype(np.int8)\n",
    "    beta0 = 0.5*np.ones(5)\n",
    "    beta1 = 2*np.ones(5)\n",
    "    y_probs = (1-g)*(1/(1+np.exp(x@beta0))) + g*(1/(1+np.exp(x@beta1)))\n",
    "    y = (y_probs > 0.5).astype(np.int8)\n",
    "\n",
    "    yg = np.zeros(shape=(2*n,)).astype(np.int8)\n",
    "    yg[np.intersect1d(np.where(g==0), np.where(y==0))] = 0\n",
    "    yg[np.intersect1d(np.where(g==1), np.where(y==0))] = 1\n",
    "    yg[np.intersect1d(np.where(g==0), np.where(y==1))] = 2\n",
    "    yg[np.intersect1d(np.where(g==1), np.where(y==1))] = 3\n",
    "\n",
    "    xtr, xte = x[:n,:], x[n:,:]\n",
    "    ytr, yte = y[:n], y[n:]\n",
    "    gtr, gte = g[:n], g[n:]\n",
    "    yg_tr = yg[:n]\n",
    "\n",
    "    yg1 = np.all(\n",
    "        np.array([gte==1, yte==1]),\n",
    "        axis = 0\n",
    "        )\n",
    "    yg0 = np.all(\n",
    "        np.array([gte==0, yte==1]),\n",
    "        axis = 0\n",
    "        )\n",
    "\n",
    "    model = LogisticRegression(solver='liblinear').fit(xtr, ytr)\n",
    "    propensity = LogisticRegression(solver='liblinear').fit(xtr, yg_tr)\n",
    "\n",
    "    if estimand == 'threshold':\n",
    "        preds = model.predict(xte)\n",
    "        phi0 = -1/np.mean(yg0) * preds[np.where(yg0)[0]]\n",
    "        phi1 = 1/np.mean(yg1) * preds[np.where(yg1)[0]]\n",
    "        phi = np.hstack([phi0, phi1])\n",
    "        est = np.sum(phi)/gte.shape[0]\n",
    "        eif = phi - est\n",
    "        var = np.var(eif)/n\n",
    "        naive_est = np.mean(preds[np.where(yg1)[0]])- np.mean(preds[np.where(yg0)[0]])\n",
    "        naive_var = (np.var(preds[np.where(yg1)[0]]) + np.var(preds[np.where(yg0)[0]]))/n\n",
    "        error = np.mean(np.abs(preds - yte))\n",
    "\n",
    "    if estimand == 'prob':\n",
    "        props = propensity.predict_proba(xte)\n",
    "        preds = model.predict_proba(xte)[:,1]\n",
    "        phi0 = -1/np.mean(yg0) * (props[:,2]*((yte==1) - preds) + yg0 * preds)\n",
    "        phi1 = 1/np.mean(yg1) * (props[:,3]* ((yte==1) - preds) + yg1 * preds)\n",
    "        phi = phi0 + phi1\n",
    "        est = np.mean(phi)\n",
    "        eif = est - phi\n",
    "        var = np.var(eif)/n\n",
    "        naive_est = np.mean(preds[np.where(yg1)[0]])- np.mean(preds[np.where(yg0)[0]])\n",
    "        naive_var = (np.var(preds[np.where(yg1)[0]]) + np.var(preds[np.where(yg0)[0]]))/n\n",
    "        error = np.mean(np.abs(preds - yte))\n",
    "\n",
    "    return est, var, naive_est, naive_var"
   ]
  },
  {
   "cell_type": "code",
   "execution_count": 53,
   "metadata": {},
   "outputs": [],
   "source": [
    "def coverage_sim_opp(\n",
    "    n,\n",
    "    n_sims = 100,\n",
    "    estimand = 'threshold'):\n",
    "\n",
    "    rng = np.random.default_rng()\n",
    "\n",
    "    coverage = 0\n",
    "\n",
    "    for _ in range(n_sims):\n",
    "        res = opportunity_sim(\n",
    "            n = n,\n",
    "            estimand=estimand,\n",
    "            rng=rng\n",
    "        )\n",
    "        est = res[0]\n",
    "        var = res[1]\n",
    "        upper = est + 1.96*np.sqrt(var)\n",
    "        lower = est - 1.96*np.sqrt(var)\n",
    "        if (upper >= 0) and (lower <= 0):\n",
    "            coverage += 1\n",
    "    return coverage/n_sims "
   ]
  },
  {
   "cell_type": "code",
   "execution_count": 71,
   "metadata": {},
   "outputs": [
    {
     "data": {
      "text/plain": [
       "[<matplotlib.lines.Line2D at 0x7fbb0de39f90>]"
      ]
     },
     "execution_count": 71,
     "metadata": {},
     "output_type": "execute_result"
    },
    {
     "data": {
      "image/png": "[encoded data removed]",
      "text/plain": [
       "<Figure size 640x480 with 1 Axes>"
      ]
     },
     "metadata": {},
     "output_type": "display_data"
    }
   ],
   "source": [
    "sample_sizes = np.round(np.power(10, np.arange(1.7, 4, 0.1))).astype(np.int64)\n",
    "coverage = []\n",
    "for size in sample_sizes:\n",
    "    res = coverage_sim_opp(\n",
    "        n_sims = 100,\n",
    "        n = size,\n",
    "        estimand='prob'\n",
    "    )\n",
    "    coverage.append(res)\n",
    "plt.plot(sample_sizes, coverage)"
   ]
  },
  {
   "cell_type": "code",
   "execution_count": 63,
   "metadata": {},
   "outputs": [
    {
     "data": {
      "text/plain": [
       "<matplotlib.legend.Legend at 0x7fbb0e338e10>"
      ]
     },
     "execution_count": 63,
     "metadata": {},
     "output_type": "execute_result"
    },
    {
     "data": {
      "image/png": "[encoded data removed]",
      "text/plain": [
       "<Figure size 640x480 with 1 Axes>"
      ]
     },
     "metadata": {},
     "output_type": "display_data"
    }
   ],
   "source": [
    "reps = 10\n",
    "sizes = [50, 100, 250, 500, 1000]\n",
    "tl = []\n",
    "naive = []\n",
    "\n",
    "for i in range(len(sizes)):\n",
    "    tl_res = 0\n",
    "    naive_res = 0\n",
    "    for _ in range(reps):\n",
    "        res = opportunity_sim(\n",
    "            n = sizes[i],\n",
    "            estimand = 'threshold'\n",
    "            )\n",
    "        tl_res += res[1]\n",
    "        naive_res += res[3]\n",
    "    tl.append(tl_res/reps)\n",
    "    naive.append(naive_res/reps)\n",
    "\n",
    "plt.plot(sizes, tl, label=\"TL\")\n",
    "plt.plot(sizes, naive, label=\"Naive\")\n",
    "plt.legend()"
   ]
  }
 ],
 "metadata": {
  "kernelspec": {
   "display_name": "Python 3.7.13 ('cfe')",
   "language": "python",
   "name": "python3"
  },
  "language_info": {
   "codemirror_mode": {
    "name": "ipython",
    "version": 3
   },
   "file_extension": ".py",
   "mimetype": "text/x-python",
   "name": "python",
   "nbconvert_exporter": "python",
   "pygments_lexer": "ipython3",
   "version": "3.7.13"
  },
  "orig_nbformat": 4,
  "vscode": {
   "interpreter": {
    "hash": "ed9f6bfafb24424ac2d7c1a0180a98b6559823ee37c889981a56c6d18cd38889"
   }
  }
 },
 "nbformat": 4,
 "nbformat_minor": 2
}
